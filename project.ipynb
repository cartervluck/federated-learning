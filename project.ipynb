{
 "cells": [
  {
   "cell_type": "code",
   "execution_count": 1,
   "id": "3fb90bf3-d1dc-4a45-811c-cd8a983b25c5",
   "metadata": {},
   "outputs": [],
   "source": [
    "import torch\n",
    "from torch import nn, optim\n",
    "import torchvision\n",
    "torchvision.disable_beta_transforms_warning()\n",
    "import torchvision.transforms.v2 as transforms\n",
    "import numpy as np\n",
    "import torch.utils.tensorboard as tb\n",
    "import datetime\n",
    "import os\n",
    "from tqdm.notebook import tqdm"
   ]
  },
  {
   "cell_type": "code",
   "execution_count": 2,
   "id": "d5d26aff-2c32-4896-9df1-10b6bbb7a2d5",
   "metadata": {},
   "outputs": [
    {
     "name": "stdout",
     "output_type": "stream",
     "text": [
      "cuda\n"
     ]
    }
   ],
   "source": [
    "if torch.cuda.is_available():\n",
    "    device = torch.device('cuda')\n",
    "elif torch.backends.mps.is_available():\n",
    "    device = torch.device('mps')\n",
    "else:\n",
    "    device = 'cpu'\n",
    "print(device)"
   ]
  },
  {
   "cell_type": "code",
   "execution_count": 3,
   "id": "559fa08f-397b-4b85-8425-1ccccbeb9dd4",
   "metadata": {},
   "outputs": [
    {
     "name": "stdout",
     "output_type": "stream",
     "text": [
      "Files already downloaded and verified\n"
     ]
    }
   ],
   "source": [
    "transform = transforms.Compose([\n",
    "    transforms.ToImage(),\n",
    "    transforms.ConvertImageDtype()\n",
    "])\n",
    "\n",
    "dataset = torchvision.datasets.CIFAR10('./data/torch/cifar', download=True, transform=transform)"
   ]
  },
  {
   "cell_type": "code",
   "execution_count": 4,
   "id": "6b29fcba-6189-4ca5-976d-369c35e7eaeb",
   "metadata": {},
   "outputs": [],
   "source": [
    "train_size = int(0.7 * len(dataset))\n",
    "valid_size = int(0.2 * len(dataset))\n",
    "train_set, valid_set, test_set = torch.utils.data.random_split(dataset, [train_size, valid_size, len(dataset) - train_size - valid_size])"
   ]
  },
  {
   "cell_type": "code",
   "execution_count": 5,
   "id": "7b8de8ee-5f66-44c7-b08b-f00c40450ab6",
   "metadata": {},
   "outputs": [],
   "source": [
    "cifar_mean = (0.4914, 0.4822, 0.4465)\n",
    "cifar_std = (0.2470, 0.2435, 0.2616)\n",
    "\n",
    "normalize = transforms.Normalize(cifar_mean, cifar_std)"
   ]
  },
  {
   "cell_type": "code",
   "execution_count": 6,
   "id": "f3867083-b82a-4b6f-814f-0bb88e5f45ba",
   "metadata": {},
   "outputs": [],
   "source": [
    "class CNN(nn.Module):\n",
    "\n",
    "    def __init__(self, arch=[],padding=True):\n",
    "        super().__init__()\n",
    "        pad = 'same' if padding else 0\n",
    "        size = 32\n",
    "        layers = [nn.Conv2d(3,arch[0][1],arch[0][0], padding=pad)]\n",
    "        if not padding: size -= arch[0][0] - 1\n",
    "        for i in range(len(arch)-1):\n",
    "            layers.append(nn.ReLU())\n",
    "            layers.append(nn.Conv2d(arch[i][1], arch[i+1][1], arch[i+1][0],padding=pad))\n",
    "            if not padding: size -= arch[i+1][0] - 1\n",
    "        layers.append(nn.AvgPool2d(kernel_size=(int(size),int(size))))\n",
    "        layers.append(nn.Flatten())\n",
    "        layers.append(nn.Linear(arch[-1][1],10))\n",
    "        self.layers = layers\n",
    "        self.model = nn.Sequential(*layers)\n",
    "\n",
    "    def forward(self, x):\n",
    "        return self.model(x)"
   ]
  },
  {
   "cell_type": "code",
   "execution_count": 7,
   "id": "5429717b-7411-4dbb-b979-34569b74c422",
   "metadata": {},
   "outputs": [],
   "source": [
    "def train(arch=[], lr=1e-3, epochs=10, batch_size=64, momentum=0.9,padding=True):\n",
    "\n",
    "    user_data_size = int(0.1 * len(dataset)) # Each user's model is trained on a much smaller, personal dataset\n",
    "    train_cut, _ = torch.utils.data.random_split(train_set, [user_data_size, len(train_set) - user_data_size])\n",
    "    \n",
    "    train_loader = torch.utils.data.DataLoader(train_cut, shuffle=True, batch_size=batch_size)\n",
    "    valid_loader = torch.utils.data.DataLoader(valid_set, shuffle=False, batch_size=batch_size)\n",
    "\n",
    "    network = CNN(arch=arch,padding=padding)\n",
    "    opt = optim.SGD(network.parameters(), lr=lr, momentum=momentum)\n",
    "    loss = nn.CrossEntropyLoss()\n",
    "\n",
    "    # Build a name for each training run. In this case, the name has the format\n",
    "    # input_size:hidden1_size:...:hiddenN_size-lr-XX-bs-XX-mom-XX\n",
    "    # The first set of colon-separated integers encodes the MLP architecture while\n",
    "    # lr, bs, and mom, capture the learning rate, batch size, and momentum respectively.\n",
    "\n",
    "    train_accs = []\n",
    "    valid_accs = []\n",
    "\n",
    "    for i in tqdm(range(epochs)):\n",
    "\n",
    "        network.train()\n",
    "        train_acc = []\n",
    "        for batch_xs, batch_ys in train_loader:\n",
    "            batch_xs = batch_xs.to(device)\n",
    "            batch_ys = batch_ys.to(device)\n",
    "            \n",
    "            preds = network(normalize(batch_xs))\n",
    "            acc = (preds.argmax(dim=1) == batch_ys).float().mean()\n",
    "\n",
    "            loss_val = loss(preds, batch_ys)\n",
    "\n",
    "            opt.zero_grad()\n",
    "            loss_val.backward()\n",
    "            opt.step()\n",
    "\n",
    "        train_accs.append(torch.tensor(train_acc).mean())\n",
    "        \n",
    "\n",
    "        network.eval()\n",
    "        accs = []\n",
    "        losses = []\n",
    "        for batch_xs, batch_ys in valid_loader:\n",
    "            batch_xs = batch_xs.to(device)\n",
    "            batch_ys = batch_ys.to(device)\n",
    "            preds = network(normalize(batch_xs))\n",
    "            accs.append((preds.argmax(dim=1) == batch_ys).float().mean())\n",
    "        acc = torch.tensor(accs).mean()\n",
    "        valid_accs.append(acc)\n",
    "        #print(\"EPOCH \" + str(i) + \": Valid acc \" + acc)\n",
    "        # Log anything you want to track once per epoch here. Note that you do\n",
    "        # not need to increment global_step here.\n",
    "    return (network, valid_accs)"
   ]
  },
  {
   "cell_type": "code",
   "execution_count": 8,
   "id": "d1563123-fa7c-43ad-b6bb-fd3f3963d512",
   "metadata": {},
   "outputs": [],
   "source": [
    "def iterate_model(network, lr=1e-3, epochs=25, batch_size=64, momentum=0.9,padding=True,model_count=10):\n",
    "    user_data_size = int(len(dataset)/model_count) # Each user's model is trained on a much smaller, personal dataset\n",
    "    train_cut, _ = torch.utils.data.random_split(train_set, [user_data_size, len(train_set) - user_data_size])\n",
    "    \n",
    "    train_loader = torch.utils.data.DataLoader(train_cut, shuffle=True, batch_size=batch_size)\n",
    "    valid_loader = torch.utils.data.DataLoader(valid_set, shuffle=False, batch_size=batch_size)\n",
    "    \n",
    "    opt = optim.SGD(network.parameters(), lr=lr, momentum=momentum)\n",
    "    loss = nn.CrossEntropyLoss()\n",
    "\n",
    "    train_accs = []\n",
    "    valid_accs = []\n",
    "\n",
    "    for i in tqdm(range(epochs)):\n",
    "\n",
    "        network.train()\n",
    "        train_acc = []\n",
    "        for batch_xs, batch_ys in train_loader:\n",
    "            batch_xs = batch_xs.to(device)\n",
    "            batch_ys = batch_ys.to(device)\n",
    "            preds = network(normalize(batch_xs))\n",
    "            acc = (preds.argmax(dim=1) == batch_ys).float().mean()\n",
    "\n",
    "            loss_val = loss(preds, batch_ys)\n",
    "\n",
    "            opt.zero_grad()\n",
    "            loss_val.backward()\n",
    "            opt.step()\n",
    "\n",
    "        train_accs.append(torch.tensor(train_acc).mean())\n",
    "        \n",
    "\n",
    "        network.eval()\n",
    "        accs = []\n",
    "        losses = []\n",
    "        for batch_xs, batch_ys in valid_loader:\n",
    "            batch_xs = batch_xs.to(device)\n",
    "            batch_ys = batch_ys.to(device)\n",
    "            preds = network(normalize(batch_xs))\n",
    "            accs.append((preds.argmax(dim=1) == batch_ys).float().mean())\n",
    "        acc = torch.tensor(accs).mean()\n",
    "        valid_accs.append(acc)\n",
    "        #print(\"EPOCH \" + str(i) + \": Valid acc \" + acc)\n",
    "        # Log anything you want to track once per epoch here. Note that you do\n",
    "        # not need to increment global_step here.\n",
    "    return valid_accs"
   ]
  },
  {
   "cell_type": "code",
   "execution_count": 9,
   "id": "aebf4f46-4965-47cd-b71b-bb4ec8dffa98",
   "metadata": {},
   "outputs": [],
   "source": [
    "def models_diff(n1,n2,loader):\n",
    "    n1.eval()\n",
    "    n2.eval()\n",
    "    results = []\n",
    "    for batch_xs, batch_ys in loader:\n",
    "        batch_xs = batch_xs.to(device)\n",
    "        batch_ys = batch_ys.to(device)\n",
    "        p1 = n1(normalize(batch_xs))\n",
    "        p2 = n2(normalize(batch_xs))\n",
    "        results.append(torch.norm(p1-p2))\n",
    "    return torch.tensor(results).mean()"
   ]
  },
  {
   "cell_type": "code",
   "execution_count": 10,
   "id": "58b90134-8ee0-4643-ad80-1925b2a0f53a",
   "metadata": {},
   "outputs": [],
   "source": [
    "def override_models(networks, target_dict):\n",
    "    for m in models:\n",
    "        m.load_state_dict(target_dict)"
   ]
  },
  {
   "cell_type": "code",
   "execution_count": 11,
   "id": "acce37de-9a8a-424d-97d6-2a1bde26cce8",
   "metadata": {},
   "outputs": [],
   "source": [
    "def aggregate(models,arch,trained_models=[]):\n",
    "    if trained_models == []:\n",
    "        trained_models = models\n",
    "    agg = CNN(arch=arch,padding=False)\n",
    "    agg.to(device)\n",
    "    \n",
    "    state_agg = agg.state_dict()\n",
    "    for layer in state_agg:\n",
    "        state_agg[layer] = torch.zeros(state_agg[layer].shape).to(device)\n",
    "    \n",
    "    i = 0\n",
    "    for m in trained_models:\n",
    "        state_m = m.state_dict()\n",
    "        for layer in state_agg:\n",
    "            state_agg[layer] = state_agg[layer] + state_m[layer]\n",
    "\n",
    "    for layer in state_agg:\n",
    "        state_agg[layer] = state_agg[layer] / len(trained_models)\n",
    "    \n",
    "    valid_loader = torch.utils.data.DataLoader(valid_set, shuffle=False, batch_size=64)\n",
    "\n",
    "    override_models(models, state_agg)"
   ]
  },
  {
   "cell_type": "markdown",
   "id": "8e57c3c6-e807-4b77-abf6-2eb2b5af806e",
   "metadata": {},
   "source": [
    "Ideas for Decentralized Aggregation:\n",
    "* Layered Masking Aggregation\n",
    "    * Each user generates a random \"masked model\" which is within expected model parameters\n",
    "    * Add together every masked model to generate aggregate masked model (AMM)\n",
    "    * Each user calculates mask = masked model - true model\n",
    "    * Go around removing masks from AMM\n",
    "    * So long as a user can't see both the masked model and the mask, they can't know a user's true model\n",
    "    * Can calculate user i's masked model if user i-1 and i+1 are compromised (where user k adds their masked model and passes it to user k+1)\n",
    "    * Can calculate user i's mask if user i-1 and i+1 are compromised\n",
    "    * No one malicious user can violate security, but still pretty weak.\n",
    "* Just Use MPC\n",
    "    * For a large network or many parties, this gets really expensive"
   ]
  },
  {
   "cell_type": "code",
   "execution_count": 18,
   "id": "f458ee4e-bf9b-484f-a81c-174d55f2b7f4",
   "metadata": {},
   "outputs": [],
   "source": [
    "model_count = 10\n",
    "arch = [(7, 8), (3, 16), (3, 32), (3, 64)]\n",
    "models = [CNN(arch=arch,padding=True) for i in range(model_count)] # TODO: Initialize models with the same weights, otherwise the first epoch is wasted\n",
    "d = models[0].state_dict()\n",
    "override_models(models, d)\n",
    "for m in models:\n",
    "    m.to(device)\n",
    "accs = []\n",
    "iterate_prob = 1"
   ]
  },
  {
   "cell_type": "code",
   "execution_count": 19,
   "id": "67333889-7b7f-4a3a-9ef2-1d0c6cebd2f5",
   "metadata": {},
   "outputs": [],
   "source": [
    "def eval_model(network,loader):\n",
    "    # Given a network and a data loader, evaluate the accuracy of the network\n",
    "    network.eval()\n",
    "    accs = []\n",
    "    for batch_xs, batch_ys in loader:\n",
    "        batch_xs = batch_xs.to(device)\n",
    "        batch_ys = batch_ys.to(device)\n",
    "        preds = network(normalize(batch_xs))\n",
    "        accs.append((preds.argmax(dim=1) == batch_ys).float().mean())\n",
    "    acc = torch.tensor(accs).mean()\n",
    "    return acc"
   ]
  },
  {
   "cell_type": "code",
   "execution_count": 20,
   "id": "be6997fd-1c0b-46b2-8e5e-1ea4d5b12608",
   "metadata": {},
   "outputs": [
    {
     "name": "stdout",
     "output_type": "stream",
     "text": [
      "Round 1\n",
      "Training model 1\n"
     ]
    },
    {
     "data": {
      "application/vnd.jupyter.widget-view+json": {
       "model_id": "8eefd1bb64c741a6a71988e3aaac0ef8",
       "version_major": 2,
       "version_minor": 0
      },
      "text/plain": [
       "  0%|          | 0/10 [00:00<?, ?it/s]"
      ]
     },
     "metadata": {},
     "output_type": "display_data"
    },
    {
     "name": "stdout",
     "output_type": "stream",
     "text": [
      "tensor(0.3085)\n",
      "Training model 2\n"
     ]
    },
    {
     "data": {
      "application/vnd.jupyter.widget-view+json": {
       "model_id": "7bf6298d0ae04999a4e861b01333f7b4",
       "version_major": 2,
       "version_minor": 0
      },
      "text/plain": [
       "  0%|          | 0/10 [00:00<?, ?it/s]"
      ]
     },
     "metadata": {},
     "output_type": "display_data"
    },
    {
     "name": "stdout",
     "output_type": "stream",
     "text": [
      "tensor(0.3205)\n",
      "Training model 3\n"
     ]
    },
    {
     "data": {
      "application/vnd.jupyter.widget-view+json": {
       "model_id": "3cd70cf346cc4117a65270726caef49b",
       "version_major": 2,
       "version_minor": 0
      },
      "text/plain": [
       "  0%|          | 0/10 [00:00<?, ?it/s]"
      ]
     },
     "metadata": {},
     "output_type": "display_data"
    },
    {
     "name": "stdout",
     "output_type": "stream",
     "text": [
      "tensor(0.3111)\n",
      "Training model 4\n"
     ]
    },
    {
     "data": {
      "application/vnd.jupyter.widget-view+json": {
       "model_id": "3499ade2d21d4203b7e01f9a3317c760",
       "version_major": 2,
       "version_minor": 0
      },
      "text/plain": [
       "  0%|          | 0/10 [00:00<?, ?it/s]"
      ]
     },
     "metadata": {},
     "output_type": "display_data"
    },
    {
     "name": "stdout",
     "output_type": "stream",
     "text": [
      "tensor(0.2954)\n",
      "Training model 5\n"
     ]
    },
    {
     "data": {
      "application/vnd.jupyter.widget-view+json": {
       "model_id": "90a09319a7204f498a5ca781ed632361",
       "version_major": 2,
       "version_minor": 0
      },
      "text/plain": [
       "  0%|          | 0/10 [00:00<?, ?it/s]"
      ]
     },
     "metadata": {},
     "output_type": "display_data"
    },
    {
     "name": "stdout",
     "output_type": "stream",
     "text": [
      "tensor(0.2949)\n",
      "Training model 6\n"
     ]
    },
    {
     "data": {
      "application/vnd.jupyter.widget-view+json": {
       "model_id": "7e26b252897c428b9e972a9337f80184",
       "version_major": 2,
       "version_minor": 0
      },
      "text/plain": [
       "  0%|          | 0/10 [00:00<?, ?it/s]"
      ]
     },
     "metadata": {},
     "output_type": "display_data"
    },
    {
     "name": "stdout",
     "output_type": "stream",
     "text": [
      "tensor(0.3082)\n",
      "Training model 7\n"
     ]
    },
    {
     "data": {
      "application/vnd.jupyter.widget-view+json": {
       "model_id": "90979108f6b348f7b1496e30bb08701d",
       "version_major": 2,
       "version_minor": 0
      },
      "text/plain": [
       "  0%|          | 0/10 [00:00<?, ?it/s]"
      ]
     },
     "metadata": {},
     "output_type": "display_data"
    },
    {
     "name": "stdout",
     "output_type": "stream",
     "text": [
      "tensor(0.3027)\n",
      "Training model 8\n"
     ]
    },
    {
     "data": {
      "application/vnd.jupyter.widget-view+json": {
       "model_id": "f20a447b8bde4a4390d3e4d4dcfef886",
       "version_major": 2,
       "version_minor": 0
      },
      "text/plain": [
       "  0%|          | 0/10 [00:00<?, ?it/s]"
      ]
     },
     "metadata": {},
     "output_type": "display_data"
    },
    {
     "name": "stdout",
     "output_type": "stream",
     "text": [
      "tensor(0.3096)\n",
      "Training model 9\n"
     ]
    },
    {
     "data": {
      "application/vnd.jupyter.widget-view+json": {
       "model_id": "db692ebc30e84377b0370e253396bb73",
       "version_major": 2,
       "version_minor": 0
      },
      "text/plain": [
       "  0%|          | 0/10 [00:00<?, ?it/s]"
      ]
     },
     "metadata": {},
     "output_type": "display_data"
    },
    {
     "name": "stdout",
     "output_type": "stream",
     "text": [
      "tensor(0.3042)\n",
      "Training model 10\n"
     ]
    },
    {
     "data": {
      "application/vnd.jupyter.widget-view+json": {
       "model_id": "5511ac15a2654313afa6754b22ea5222",
       "version_major": 2,
       "version_minor": 0
      },
      "text/plain": [
       "  0%|          | 0/10 [00:00<?, ?it/s]"
      ]
     },
     "metadata": {},
     "output_type": "display_data"
    },
    {
     "name": "stdout",
     "output_type": "stream",
     "text": [
      "tensor(0.3104)\n",
      "Avg. Accuracy: 0.30655852\n",
      "Round 2\n",
      "Training model 1\n"
     ]
    },
    {
     "data": {
      "application/vnd.jupyter.widget-view+json": {
       "model_id": "b225ee0d17ff445b8a937bf890ecb3f2",
       "version_major": 2,
       "version_minor": 0
      },
      "text/plain": [
       "  0%|          | 0/10 [00:00<?, ?it/s]"
      ]
     },
     "metadata": {},
     "output_type": "display_data"
    },
    {
     "name": "stdout",
     "output_type": "stream",
     "text": [
      "tensor(0.3677)\n",
      "Training model 2\n"
     ]
    },
    {
     "data": {
      "application/vnd.jupyter.widget-view+json": {
       "model_id": "6ee89c587e75457d8abce93b90c9eb3c",
       "version_major": 2,
       "version_minor": 0
      },
      "text/plain": [
       "  0%|          | 0/10 [00:00<?, ?it/s]"
      ]
     },
     "metadata": {},
     "output_type": "display_data"
    },
    {
     "name": "stdout",
     "output_type": "stream",
     "text": [
      "tensor(0.3494)\n",
      "Training model 3\n"
     ]
    },
    {
     "data": {
      "application/vnd.jupyter.widget-view+json": {
       "model_id": "85f7d287342b4ad799d072d12b983825",
       "version_major": 2,
       "version_minor": 0
      },
      "text/plain": [
       "  0%|          | 0/10 [00:00<?, ?it/s]"
      ]
     },
     "metadata": {},
     "output_type": "display_data"
    },
    {
     "name": "stdout",
     "output_type": "stream",
     "text": [
      "tensor(0.3576)\n",
      "Training model 4\n"
     ]
    },
    {
     "data": {
      "application/vnd.jupyter.widget-view+json": {
       "model_id": "fc870272019d4e90aca329843cb50f40",
       "version_major": 2,
       "version_minor": 0
      },
      "text/plain": [
       "  0%|          | 0/10 [00:00<?, ?it/s]"
      ]
     },
     "metadata": {},
     "output_type": "display_data"
    },
    {
     "name": "stdout",
     "output_type": "stream",
     "text": [
      "tensor(0.3475)\n",
      "Training model 5\n"
     ]
    },
    {
     "data": {
      "application/vnd.jupyter.widget-view+json": {
       "model_id": "7a5776d0f233425ba94ccc0dc99fb247",
       "version_major": 2,
       "version_minor": 0
      },
      "text/plain": [
       "  0%|          | 0/10 [00:00<?, ?it/s]"
      ]
     },
     "metadata": {},
     "output_type": "display_data"
    },
    {
     "name": "stdout",
     "output_type": "stream",
     "text": [
      "tensor(0.3384)\n",
      "Training model 6\n"
     ]
    },
    {
     "data": {
      "application/vnd.jupyter.widget-view+json": {
       "model_id": "e8c8b651f26e4901825a92badcf61845",
       "version_major": 2,
       "version_minor": 0
      },
      "text/plain": [
       "  0%|          | 0/10 [00:00<?, ?it/s]"
      ]
     },
     "metadata": {},
     "output_type": "display_data"
    },
    {
     "name": "stdout",
     "output_type": "stream",
     "text": [
      "tensor(0.3223)\n",
      "Training model 7\n"
     ]
    },
    {
     "data": {
      "application/vnd.jupyter.widget-view+json": {
       "model_id": "61c7f895eabb4f83b11df0b7ea983cc3",
       "version_major": 2,
       "version_minor": 0
      },
      "text/plain": [
       "  0%|          | 0/10 [00:00<?, ?it/s]"
      ]
     },
     "metadata": {},
     "output_type": "display_data"
    },
    {
     "name": "stdout",
     "output_type": "stream",
     "text": [
      "tensor(0.3527)\n",
      "Training model 8\n"
     ]
    },
    {
     "data": {
      "application/vnd.jupyter.widget-view+json": {
       "model_id": "54636d4f838e49e48b369895418d0071",
       "version_major": 2,
       "version_minor": 0
      },
      "text/plain": [
       "  0%|          | 0/10 [00:00<?, ?it/s]"
      ]
     },
     "metadata": {},
     "output_type": "display_data"
    },
    {
     "name": "stdout",
     "output_type": "stream",
     "text": [
      "tensor(0.3452)\n",
      "Training model 9\n"
     ]
    },
    {
     "data": {
      "application/vnd.jupyter.widget-view+json": {
       "model_id": "130f20c52a594cc194c3fa27e3cf9b00",
       "version_major": 2,
       "version_minor": 0
      },
      "text/plain": [
       "  0%|          | 0/10 [00:00<?, ?it/s]"
      ]
     },
     "metadata": {},
     "output_type": "display_data"
    },
    {
     "name": "stdout",
     "output_type": "stream",
     "text": [
      "tensor(0.3642)\n",
      "Training model 10\n"
     ]
    },
    {
     "data": {
      "application/vnd.jupyter.widget-view+json": {
       "model_id": "c260f67526b741c482252732125bb93e",
       "version_major": 2,
       "version_minor": 0
      },
      "text/plain": [
       "  0%|          | 0/10 [00:00<?, ?it/s]"
      ]
     },
     "metadata": {},
     "output_type": "display_data"
    },
    {
     "name": "stdout",
     "output_type": "stream",
     "text": [
      "tensor(0.3447)\n",
      "Avg. Accuracy: 0.34897494\n",
      "Round 3\n",
      "Training model 1\n"
     ]
    },
    {
     "data": {
      "application/vnd.jupyter.widget-view+json": {
       "model_id": "5b2719743f6141b48601e2732369e497",
       "version_major": 2,
       "version_minor": 0
      },
      "text/plain": [
       "  0%|          | 0/10 [00:00<?, ?it/s]"
      ]
     },
     "metadata": {},
     "output_type": "display_data"
    },
    {
     "name": "stdout",
     "output_type": "stream",
     "text": [
      "tensor(0.3809)\n",
      "Training model 2\n"
     ]
    },
    {
     "data": {
      "application/vnd.jupyter.widget-view+json": {
       "model_id": "d133c71faf604c26bc15cd9da044b566",
       "version_major": 2,
       "version_minor": 0
      },
      "text/plain": [
       "  0%|          | 0/10 [00:00<?, ?it/s]"
      ]
     },
     "metadata": {},
     "output_type": "display_data"
    },
    {
     "name": "stdout",
     "output_type": "stream",
     "text": [
      "tensor(0.3538)\n",
      "Training model 3\n"
     ]
    },
    {
     "data": {
      "application/vnd.jupyter.widget-view+json": {
       "model_id": "50da2bc787854ec38e8bdaa51cd50c96",
       "version_major": 2,
       "version_minor": 0
      },
      "text/plain": [
       "  0%|          | 0/10 [00:00<?, ?it/s]"
      ]
     },
     "metadata": {},
     "output_type": "display_data"
    },
    {
     "name": "stdout",
     "output_type": "stream",
     "text": [
      "tensor(0.3658)\n",
      "Training model 4\n"
     ]
    },
    {
     "data": {
      "application/vnd.jupyter.widget-view+json": {
       "model_id": "744950387140454bbce64b936a6cafe4",
       "version_major": 2,
       "version_minor": 0
      },
      "text/plain": [
       "  0%|          | 0/10 [00:00<?, ?it/s]"
      ]
     },
     "metadata": {},
     "output_type": "display_data"
    },
    {
     "name": "stdout",
     "output_type": "stream",
     "text": [
      "tensor(0.3713)\n",
      "Training model 5\n"
     ]
    },
    {
     "data": {
      "application/vnd.jupyter.widget-view+json": {
       "model_id": "5bd25cbc92b4477a951e0e533293dc4c",
       "version_major": 2,
       "version_minor": 0
      },
      "text/plain": [
       "  0%|          | 0/10 [00:00<?, ?it/s]"
      ]
     },
     "metadata": {},
     "output_type": "display_data"
    },
    {
     "name": "stdout",
     "output_type": "stream",
     "text": [
      "tensor(0.3388)\n",
      "Training model 6\n"
     ]
    },
    {
     "data": {
      "application/vnd.jupyter.widget-view+json": {
       "model_id": "870754b71f164f6fa434e9971255f022",
       "version_major": 2,
       "version_minor": 0
      },
      "text/plain": [
       "  0%|          | 0/10 [00:00<?, ?it/s]"
      ]
     },
     "metadata": {},
     "output_type": "display_data"
    },
    {
     "name": "stdout",
     "output_type": "stream",
     "text": [
      "tensor(0.3697)\n",
      "Training model 7\n"
     ]
    },
    {
     "data": {
      "application/vnd.jupyter.widget-view+json": {
       "model_id": "d411621bf0024dba990a2b975482fe09",
       "version_major": 2,
       "version_minor": 0
      },
      "text/plain": [
       "  0%|          | 0/10 [00:00<?, ?it/s]"
      ]
     },
     "metadata": {},
     "output_type": "display_data"
    },
    {
     "name": "stdout",
     "output_type": "stream",
     "text": [
      "tensor(0.3673)\n",
      "Training model 8\n"
     ]
    },
    {
     "data": {
      "application/vnd.jupyter.widget-view+json": {
       "model_id": "ac11d24b70dd4ba38eb452f34ff8fe74",
       "version_major": 2,
       "version_minor": 0
      },
      "text/plain": [
       "  0%|          | 0/10 [00:00<?, ?it/s]"
      ]
     },
     "metadata": {},
     "output_type": "display_data"
    },
    {
     "name": "stdout",
     "output_type": "stream",
     "text": [
      "tensor(0.3681)\n",
      "Training model 9\n"
     ]
    },
    {
     "data": {
      "application/vnd.jupyter.widget-view+json": {
       "model_id": "0bb9dc8665c941f48e6cefaba3507407",
       "version_major": 2,
       "version_minor": 0
      },
      "text/plain": [
       "  0%|          | 0/10 [00:00<?, ?it/s]"
      ]
     },
     "metadata": {},
     "output_type": "display_data"
    },
    {
     "name": "stdout",
     "output_type": "stream",
     "text": [
      "tensor(0.3529)\n",
      "Training model 10\n"
     ]
    },
    {
     "data": {
      "application/vnd.jupyter.widget-view+json": {
       "model_id": "df465f1a1bf948f080b377b10e82ccc8",
       "version_major": 2,
       "version_minor": 0
      },
      "text/plain": [
       "  0%|          | 0/10 [00:00<?, ?it/s]"
      ]
     },
     "metadata": {},
     "output_type": "display_data"
    },
    {
     "name": "stdout",
     "output_type": "stream",
     "text": [
      "tensor(0.3618)\n",
      "Avg. Accuracy: 0.36304733\n",
      "Round 4\n",
      "Training model 1\n"
     ]
    },
    {
     "data": {
      "application/vnd.jupyter.widget-view+json": {
       "model_id": "8f0340a7686941fb9e8ec4b707d19373",
       "version_major": 2,
       "version_minor": 0
      },
      "text/plain": [
       "  0%|          | 0/10 [00:00<?, ?it/s]"
      ]
     },
     "metadata": {},
     "output_type": "display_data"
    },
    {
     "name": "stdout",
     "output_type": "stream",
     "text": [
      "tensor(0.3905)\n",
      "Training model 2\n"
     ]
    },
    {
     "data": {
      "application/vnd.jupyter.widget-view+json": {
       "model_id": "5dbed96c29834f4399f4d7a46e3eac06",
       "version_major": 2,
       "version_minor": 0
      },
      "text/plain": [
       "  0%|          | 0/10 [00:00<?, ?it/s]"
      ]
     },
     "metadata": {},
     "output_type": "display_data"
    },
    {
     "name": "stdout",
     "output_type": "stream",
     "text": [
      "tensor(0.3961)\n",
      "Training model 3\n"
     ]
    },
    {
     "data": {
      "application/vnd.jupyter.widget-view+json": {
       "model_id": "eff0178c34ff4d088e443d508ac29e9b",
       "version_major": 2,
       "version_minor": 0
      },
      "text/plain": [
       "  0%|          | 0/10 [00:00<?, ?it/s]"
      ]
     },
     "metadata": {},
     "output_type": "display_data"
    },
    {
     "name": "stdout",
     "output_type": "stream",
     "text": [
      "tensor(0.3815)\n",
      "Training model 4\n"
     ]
    },
    {
     "data": {
      "application/vnd.jupyter.widget-view+json": {
       "model_id": "dbdd4a21cc4c43b6abf6592335ca1f50",
       "version_major": 2,
       "version_minor": 0
      },
      "text/plain": [
       "  0%|          | 0/10 [00:00<?, ?it/s]"
      ]
     },
     "metadata": {},
     "output_type": "display_data"
    },
    {
     "name": "stdout",
     "output_type": "stream",
     "text": [
      "tensor(0.3964)\n",
      "Training model 5\n"
     ]
    },
    {
     "data": {
      "application/vnd.jupyter.widget-view+json": {
       "model_id": "290e0669048344d4b47dbb196257964b",
       "version_major": 2,
       "version_minor": 0
      },
      "text/plain": [
       "  0%|          | 0/10 [00:00<?, ?it/s]"
      ]
     },
     "metadata": {},
     "output_type": "display_data"
    },
    {
     "name": "stdout",
     "output_type": "stream",
     "text": [
      "tensor(0.4175)\n",
      "Training model 6\n"
     ]
    },
    {
     "data": {
      "application/vnd.jupyter.widget-view+json": {
       "model_id": "0d6af7b89e854d469a1058676a689d5b",
       "version_major": 2,
       "version_minor": 0
      },
      "text/plain": [
       "  0%|          | 0/10 [00:00<?, ?it/s]"
      ]
     },
     "metadata": {},
     "output_type": "display_data"
    },
    {
     "name": "stdout",
     "output_type": "stream",
     "text": [
      "tensor(0.4068)\n",
      "Training model 7\n"
     ]
    },
    {
     "data": {
      "application/vnd.jupyter.widget-view+json": {
       "model_id": "d0555ed684414de594fb0c26a06f619a",
       "version_major": 2,
       "version_minor": 0
      },
      "text/plain": [
       "  0%|          | 0/10 [00:00<?, ?it/s]"
      ]
     },
     "metadata": {},
     "output_type": "display_data"
    },
    {
     "name": "stdout",
     "output_type": "stream",
     "text": [
      "tensor(0.4108)\n",
      "Training model 8\n"
     ]
    },
    {
     "data": {
      "application/vnd.jupyter.widget-view+json": {
       "model_id": "242ae05de53143c5a2fb2bd35a0273de",
       "version_major": 2,
       "version_minor": 0
      },
      "text/plain": [
       "  0%|          | 0/10 [00:00<?, ?it/s]"
      ]
     },
     "metadata": {},
     "output_type": "display_data"
    },
    {
     "name": "stdout",
     "output_type": "stream",
     "text": [
      "tensor(0.4050)\n",
      "Training model 9\n"
     ]
    },
    {
     "data": {
      "application/vnd.jupyter.widget-view+json": {
       "model_id": "75dfeae849434a0a8edff7c906cd6bb5",
       "version_major": 2,
       "version_minor": 0
      },
      "text/plain": [
       "  0%|          | 0/10 [00:00<?, ?it/s]"
      ]
     },
     "metadata": {},
     "output_type": "display_data"
    },
    {
     "name": "stdout",
     "output_type": "stream",
     "text": [
      "tensor(0.3739)\n",
      "Training model 10\n"
     ]
    },
    {
     "data": {
      "application/vnd.jupyter.widget-view+json": {
       "model_id": "c9695303173640259785f612e13d5ab7",
       "version_major": 2,
       "version_minor": 0
      },
      "text/plain": [
       "  0%|          | 0/10 [00:00<?, ?it/s]"
      ]
     },
     "metadata": {},
     "output_type": "display_data"
    },
    {
     "name": "stdout",
     "output_type": "stream",
     "text": [
      "tensor(0.3769)\n",
      "Avg. Accuracy: 0.3955414\n",
      "Round 5\n",
      "Training model 1\n"
     ]
    },
    {
     "data": {
      "application/vnd.jupyter.widget-view+json": {
       "model_id": "88f2d215d7d44917a886a20cb50fe052",
       "version_major": 2,
       "version_minor": 0
      },
      "text/plain": [
       "  0%|          | 0/10 [00:00<?, ?it/s]"
      ]
     },
     "metadata": {},
     "output_type": "display_data"
    },
    {
     "name": "stdout",
     "output_type": "stream",
     "text": [
      "tensor(0.4283)\n",
      "Training model 2\n"
     ]
    },
    {
     "data": {
      "application/vnd.jupyter.widget-view+json": {
       "model_id": "8e8369fb279749198780f4e9066613e8",
       "version_major": 2,
       "version_minor": 0
      },
      "text/plain": [
       "  0%|          | 0/10 [00:00<?, ?it/s]"
      ]
     },
     "metadata": {},
     "output_type": "display_data"
    },
    {
     "name": "stdout",
     "output_type": "stream",
     "text": [
      "tensor(0.4194)\n",
      "Training model 3\n"
     ]
    },
    {
     "data": {
      "application/vnd.jupyter.widget-view+json": {
       "model_id": "065a7ba121274d418291e54c6facae87",
       "version_major": 2,
       "version_minor": 0
      },
      "text/plain": [
       "  0%|          | 0/10 [00:00<?, ?it/s]"
      ]
     },
     "metadata": {},
     "output_type": "display_data"
    },
    {
     "name": "stdout",
     "output_type": "stream",
     "text": [
      "tensor(0.4193)\n",
      "Training model 4\n"
     ]
    },
    {
     "data": {
      "application/vnd.jupyter.widget-view+json": {
       "model_id": "0a89c35a690244adb8d2464e31d4ff98",
       "version_major": 2,
       "version_minor": 0
      },
      "text/plain": [
       "  0%|          | 0/10 [00:00<?, ?it/s]"
      ]
     },
     "metadata": {},
     "output_type": "display_data"
    },
    {
     "name": "stdout",
     "output_type": "stream",
     "text": [
      "tensor(0.4010)\n",
      "Training model 5\n"
     ]
    },
    {
     "data": {
      "application/vnd.jupyter.widget-view+json": {
       "model_id": "752c185374dd450d9b137c4c00507e5e",
       "version_major": 2,
       "version_minor": 0
      },
      "text/plain": [
       "  0%|          | 0/10 [00:00<?, ?it/s]"
      ]
     },
     "metadata": {},
     "output_type": "display_data"
    },
    {
     "name": "stdout",
     "output_type": "stream",
     "text": [
      "tensor(0.4446)\n",
      "Training model 6\n"
     ]
    },
    {
     "data": {
      "application/vnd.jupyter.widget-view+json": {
       "model_id": "7061db0208164db9a6b82f0cce4d8219",
       "version_major": 2,
       "version_minor": 0
      },
      "text/plain": [
       "  0%|          | 0/10 [00:00<?, ?it/s]"
      ]
     },
     "metadata": {},
     "output_type": "display_data"
    },
    {
     "name": "stdout",
     "output_type": "stream",
     "text": [
      "tensor(0.4223)\n",
      "Training model 7\n"
     ]
    },
    {
     "data": {
      "application/vnd.jupyter.widget-view+json": {
       "model_id": "6da790f93071420ca44c0c7438a37c8f",
       "version_major": 2,
       "version_minor": 0
      },
      "text/plain": [
       "  0%|          | 0/10 [00:00<?, ?it/s]"
      ]
     },
     "metadata": {},
     "output_type": "display_data"
    },
    {
     "name": "stdout",
     "output_type": "stream",
     "text": [
      "tensor(0.4217)\n",
      "Training model 8\n"
     ]
    },
    {
     "data": {
      "application/vnd.jupyter.widget-view+json": {
       "model_id": "986a912113d94b92b47ab78ee9cd7151",
       "version_major": 2,
       "version_minor": 0
      },
      "text/plain": [
       "  0%|          | 0/10 [00:00<?, ?it/s]"
      ]
     },
     "metadata": {},
     "output_type": "display_data"
    },
    {
     "name": "stdout",
     "output_type": "stream",
     "text": [
      "tensor(0.4276)\n",
      "Training model 9\n"
     ]
    },
    {
     "data": {
      "application/vnd.jupyter.widget-view+json": {
       "model_id": "6d2d998cd09a4e679070990d946f5051",
       "version_major": 2,
       "version_minor": 0
      },
      "text/plain": [
       "  0%|          | 0/10 [00:00<?, ?it/s]"
      ]
     },
     "metadata": {},
     "output_type": "display_data"
    },
    {
     "name": "stdout",
     "output_type": "stream",
     "text": [
      "tensor(0.4236)\n",
      "Training model 10\n"
     ]
    },
    {
     "data": {
      "application/vnd.jupyter.widget-view+json": {
       "model_id": "a7b6502a64834b588f14116b6914c960",
       "version_major": 2,
       "version_minor": 0
      },
      "text/plain": [
       "  0%|          | 0/10 [00:00<?, ?it/s]"
      ]
     },
     "metadata": {},
     "output_type": "display_data"
    },
    {
     "name": "stdout",
     "output_type": "stream",
     "text": [
      "tensor(0.4033)\n",
      "Avg. Accuracy: 0.4210987\n"
     ]
    }
   ],
   "source": [
    "rng = np.random.default_rng()\n",
    "rounds = 5 # Number of iterations to run alternating between training and aggregating\n",
    "for r in range(rounds):\n",
    "    print(\"Round\",r+1)\n",
    "    i = 0\n",
    "    round_accs = []\n",
    "    iterated = []\n",
    "    for m in models:\n",
    "        if rng.random() > iterate_prob: # Train using only a fraction of the devices available\n",
    "            continue\n",
    "        iterated.append(i)\n",
    "        i += 1\n",
    "        print(\"Training model\",i)\n",
    "        acc = iterate_model(m,lr=2e-3 * (rounds - r),model_count=model_count,epochs=10) # 50 epochs\n",
    "        valid_loader = torch.utils.data.DataLoader(valid_set, shuffle=False, batch_size=64)\n",
    "        round_accs.append(eval_model(m, valid_loader))\n",
    "        print(round_accs[-1])\n",
    "    print(\"Avg. Accuracy:\",np.mean(round_accs))\n",
    "    #print(\"Aggregating\")\n",
    "    #aggregate(models,arch,trained_models=[models[i] for i in iterated])\n",
    "    #valid_loader = torch.utils.data.DataLoader(valid_set, shuffle=False, batch_size=64)\n",
    "    #print(\"Aggregate Evaluation Accuracy:\",eval_model(models[0],valid_loader))"
   ]
  },
  {
   "cell_type": "code",
   "execution_count": 64,
   "id": "59cd661b-032d-460b-9aaa-29c8fb596785",
   "metadata": {},
   "outputs": [
    {
     "name": "stdout",
     "output_type": "stream",
     "text": [
      "0.19390824\n"
     ]
    }
   ],
   "source": [
    "print(np.mean(a))"
   ]
  },
  {
   "cell_type": "code",
   "execution_count": 82,
   "id": "d6ff2530-0e92-4905-8c5c-9eef344df2d8",
   "metadata": {},
   "outputs": [
    {
     "name": "stdout",
     "output_type": "stream",
     "text": [
      "tensor(0.4790)\n"
     ]
    }
   ],
   "source": [
    "test_loader = torch.utils.data.DataLoader(test_set, shuffle=False, batch_size=64)\n",
    "\n",
    "agg.eval()\n",
    "accs = []\n",
    "losses = []\n",
    "for batch_xs, batch_ys in test_loader:\n",
    "    preds = models[0](normalize(batch_xs))\n",
    "    accs.append((preds.argmax(dim=1) == batch_ys).float().mean())\n",
    "acc = torch.tensor(accs).mean()\n",
    "print(acc)"
   ]
  },
  {
   "cell_type": "markdown",
   "id": "5b99b937-5b9d-47fb-b354-9c5edac0d0a7",
   "metadata": {},
   "source": [
    "I present three accuracy values for each experiment. The control group is the average accuracy of 10 models over 50 epochs, broken up into 5 iterations of 10 epochs where each model gets a random cut of 1/10th of the data in each iteration. The constituent accuracies are the accuracies of the local models after each training iteration, but before aggregation occurs. The aggregate accuracies are the accuracies of the aggregate values after each iteration.\n",
    "\n",
    "[(7, 8), (3, 16), (3, 32), (3, 64)], no padding:\n",
    "* Avg. Control Accuracies: 0.3174, 0.3848, 0.4233, 0.4589, 0.4809\n",
    "* Avg. Constituent Accuracies: 0.3216, 0.3769, 0.4093, 0.4464, 0.4697\n",
    "* Aggregate Accuracies: 0.3186, 0.4010, 0.4367, 0.4656, 0.4804\n",
    "\n",
    "| Iteration | Avg. Control Accuracy | Avg. Constituent Accuracy | Aggregate Accuracy |\n",
    "| --------  | --------------------- | ------------------------- | ------------------ |\n",
    "| 1         | 0.3174                | 0.3216                    | 0.3186             |\n",
    "| 2         | 0.3848                | 0.3769                    | 0.4010             |\n",
    "| 3         | 0.4233                | 0.4093                    | 0.4367             |\n",
    "| 4         | 0.4589                | 0.4464                    | 0.4656             |\n",
    "| 5         | 0.4809                | 0.4697                    | 0.4804             |\n",
    "\n",
    "[(7, 8), (3, 16), (3, 32), (3, 64)], padding:\n",
    "* Avg. Control Accuracies: 0.3066, 0.3490, 0.3630, 0.3955, 0.4211\n",
    "* Avg. Constituent Accuracies: 0.3056, 0.3379, 0.3669, 0.3955, 0.4310\n",
    "* Aggregate Accuracies: 0.3266, 0.3565, 0.3852, 0.4232, 0.4475\n",
    "\n",
    "| Iteration | Avg. Control Accuracy | Avg. Constituent Accuracy | Aggregate Accuracy |\n",
    "| --------  | --------------------- | ------------------------- | ------------------ |\n",
    "| 1         | 0.3066                | 0.3056                    | 0.3266             |\n",
    "| 2         | 0.3490                | 0.3379                    | 0.3565             |\n",
    "| 3         | 0.3630                | 0.3669                    | 0.3852             |\n",
    "| 4         | 0.3955                | 0.3955                    | 0.4232             |\n",
    "| 5         | 0.4211                | 0.4310                    | 0.4475             |\n",
    "\n",
    "With this basic aggregation technique, we see that the aggregate models are successfully integrating the knowledge of the constituent models. The validation accuracy of the aggregate model is pretty consistently a few percentage points above the average accuracy of the constituent models. It's interesting to note that while the average constituent accuracy after training is rarely much better than the aggregate accuracy those models started with, the aggregate accuracy improves. The constituent accuracy is pretty even with the control accuracy, and my results show the aggregate always being at least as good as the control group, suggesting that federated learning does improve the accuracy when compared to just training locally. This also is before considering inequal splits of training data."
   ]
  },
  {
   "cell_type": "code",
   "execution_count": null,
   "id": "981fc77a-389f-435e-8a82-56818c51b26b",
   "metadata": {},
   "outputs": [],
   "source": []
  }
 ],
 "metadata": {
  "kernelspec": {
   "display_name": "Python 3 (ipykernel)",
   "language": "python",
   "name": "python3"
  },
  "language_info": {
   "codemirror_mode": {
    "name": "ipython",
    "version": 3
   },
   "file_extension": ".py",
   "mimetype": "text/x-python",
   "name": "python",
   "nbconvert_exporter": "python",
   "pygments_lexer": "ipython3",
   "version": "3.11.5"
  }
 },
 "nbformat": 4,
 "nbformat_minor": 5
}
